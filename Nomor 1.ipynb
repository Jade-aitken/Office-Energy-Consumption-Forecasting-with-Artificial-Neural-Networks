{
 "cells": [
  {
   "cell_type": "markdown",
   "id": "ef43f6a1",
   "metadata": {},
   "source": [
    "## Nama: Jade Wulantrisna Aitken\n",
    "## NIM: 2702279205"
   ]
  },
  {
   "cell_type": "markdown",
   "id": "046eda06",
   "metadata": {},
   "source": [
    "https://drive.google.com/drive/folders/1Hm2Ffu4LxAWX3aixLUB7YuIyaKBL8O7u?usp=sharing"
   ]
  },
  {
   "cell_type": "code",
   "execution_count": 88,
   "id": "964df3ce",
   "metadata": {},
   "outputs": [],
   "source": [
    "import pandas as pd\n",
    "import numpy as np\n",
    "import seaborn as sns                       #visualisation\n",
    "import matplotlib.pyplot as plt             #visualisation\n",
    "\n"
   ]
  },
  {
   "cell_type": "code",
   "execution_count": 89,
   "id": "f4f3bce9",
   "metadata": {},
   "outputs": [],
   "source": [
    "df = pd.read_parquet('dataset_1A.parquet')\n"
   ]
  },
  {
   "cell_type": "markdown",
   "id": "3c328bd9",
   "metadata": {},
   "source": [
    "#### Lakukan Exploratory Data Analysis (EDA) untuk memahami kondisi data. Jelaskan semua masalah yang anda temukan pada dataset anda. Lakukan pre-processing pada dataset anda sesuai dengan hasil EDA anda, termasuk memisahkan dataset anda menjadi train, val, dan test dengan proporsi 70:10:20."
   ]
  },
  {
   "cell_type": "code",
   "execution_count": 90,
   "id": "c28979d6",
   "metadata": {},
   "outputs": [
    {
     "data": {
      "text/html": [
       "<div>\n",
       "<style scoped>\n",
       "    .dataframe tbody tr th:only-of-type {\n",
       "        vertical-align: middle;\n",
       "    }\n",
       "\n",
       "    .dataframe tbody tr th {\n",
       "        vertical-align: top;\n",
       "    }\n",
       "\n",
       "    .dataframe thead th {\n",
       "        text-align: right;\n",
       "    }\n",
       "</style>\n",
       "<table border=\"1\" class=\"dataframe\">\n",
       "  <thead>\n",
       "    <tr style=\"text-align: right;\">\n",
       "      <th></th>\n",
       "      <th>Month</th>\n",
       "      <th>Hour</th>\n",
       "      <th>DayOfWeek</th>\n",
       "      <th>Holiday</th>\n",
       "      <th>Temperature</th>\n",
       "      <th>Humidity</th>\n",
       "      <th>SquareFootage</th>\n",
       "      <th>Occupancy</th>\n",
       "      <th>HVACUsage</th>\n",
       "      <th>LightingUsage</th>\n",
       "      <th>RenewableEnergy</th>\n",
       "      <th>EnergyConsumption</th>\n",
       "    </tr>\n",
       "  </thead>\n",
       "  <tbody>\n",
       "    <tr>\n",
       "      <th>0</th>\n",
       "      <td>8</td>\n",
       "      <td>3</td>\n",
       "      <td>Sunday</td>\n",
       "      <td>Yes</td>\n",
       "      <td>24.492063</td>\n",
       "      <td>59.969085</td>\n",
       "      <td>1403.454805</td>\n",
       "      <td>7</td>\n",
       "      <td>On</td>\n",
       "      <td>Off</td>\n",
       "      <td>29.965327</td>\n",
       "      <td>82.05735763545306</td>\n",
       "    </tr>\n",
       "    <tr>\n",
       "      <th>1</th>\n",
       "      <td>1</td>\n",
       "      <td>8</td>\n",
       "      <td>Wednesday</td>\n",
       "      <td>No</td>\n",
       "      <td>26.312114</td>\n",
       "      <td>51.408711</td>\n",
       "      <td>1220.547133</td>\n",
       "      <td>8</td>\n",
       "      <td>On</td>\n",
       "      <td>Off</td>\n",
       "      <td>5.986875</td>\n",
       "      <td>83.88917674427188</td>\n",
       "    </tr>\n",
       "    <tr>\n",
       "      <th>2</th>\n",
       "      <td>1</td>\n",
       "      <td>19</td>\n",
       "      <td>Sunday</td>\n",
       "      <td>Yes</td>\n",
       "      <td>20.516186</td>\n",
       "      <td>40.918500</td>\n",
       "      <td>1114.230124</td>\n",
       "      <td>8</td>\n",
       "      <td>Off</td>\n",
       "      <td>On</td>\n",
       "      <td>20.489098</td>\n",
       "      <td>66.20209750906106</td>\n",
       "    </tr>\n",
       "    <tr>\n",
       "      <th>3</th>\n",
       "      <td>7</td>\n",
       "      <td>3</td>\n",
       "      <td>Wednesday</td>\n",
       "      <td>Yes</td>\n",
       "      <td>20.879426</td>\n",
       "      <td>46.859237</td>\n",
       "      <td>1096.207227</td>\n",
       "      <td>7</td>\n",
       "      <td>Off</td>\n",
       "      <td>On</td>\n",
       "      <td>21.321157</td>\n",
       "      <td>66.43917871187017</td>\n",
       "    </tr>\n",
       "    <tr>\n",
       "      <th>4</th>\n",
       "      <td>10</td>\n",
       "      <td>17</td>\n",
       "      <td>Saturday</td>\n",
       "      <td>No</td>\n",
       "      <td>23.015216</td>\n",
       "      <td>48.998158</td>\n",
       "      <td>1999.982252</td>\n",
       "      <td>1</td>\n",
       "      <td>Off</td>\n",
       "      <td>Off</td>\n",
       "      <td>3.966075</td>\n",
       "      <td>76.90227179904673</td>\n",
       "    </tr>\n",
       "  </tbody>\n",
       "</table>\n",
       "</div>"
      ],
      "text/plain": [
       "  Month  Hour  DayOfWeek Holiday  Temperature   Humidity  SquareFootage  \\\n",
       "0     8     3     Sunday     Yes    24.492063  59.969085    1403.454805   \n",
       "1     1     8  Wednesday      No    26.312114  51.408711    1220.547133   \n",
       "2     1    19     Sunday     Yes    20.516186  40.918500    1114.230124   \n",
       "3     7     3  Wednesday     Yes    20.879426  46.859237    1096.207227   \n",
       "4    10    17   Saturday      No    23.015216  48.998158    1999.982252   \n",
       "\n",
       "   Occupancy HVACUsage LightingUsage  RenewableEnergy  EnergyConsumption  \n",
       "0          7        On           Off        29.965327  82.05735763545306  \n",
       "1          8        On           Off         5.986875  83.88917674427188  \n",
       "2          8       Off            On        20.489098  66.20209750906106  \n",
       "3          7       Off            On        21.321157  66.43917871187017  \n",
       "4          1       Off           Off         3.966075  76.90227179904673  "
      ]
     },
     "execution_count": 90,
     "metadata": {},
     "output_type": "execute_result"
    }
   ],
   "source": [
    "df.head()"
   ]
  },
  {
   "cell_type": "code",
   "execution_count": 91,
   "id": "f6f570c0",
   "metadata": {},
   "outputs": [
    {
     "data": {
      "text/plain": [
       "Month                 object\n",
       "Hour                   int64\n",
       "DayOfWeek             object\n",
       "Holiday               object\n",
       "Temperature          float64\n",
       "Humidity             float64\n",
       "SquareFootage        float64\n",
       "Occupancy              int64\n",
       "HVACUsage             object\n",
       "LightingUsage         object\n",
       "RenewableEnergy      float64\n",
       "EnergyConsumption     object\n",
       "dtype: object"
      ]
     },
     "execution_count": 91,
     "metadata": {},
     "output_type": "execute_result"
    }
   ],
   "source": [
    "df.dtypes\n",
    "# yang perlu diperbaiki -> month, EnergyConsumption"
   ]
  },
  {
   "cell_type": "code",
   "execution_count": 92,
   "id": "cee19fd6",
   "metadata": {},
   "outputs": [
    {
     "data": {
      "text/plain": [
       "(1232, 12)"
      ]
     },
     "execution_count": 92,
     "metadata": {},
     "output_type": "execute_result"
    }
   ],
   "source": [
    "df.shape "
   ]
  },
  {
   "cell_type": "code",
   "execution_count": 93,
   "id": "15a28383",
   "metadata": {},
   "outputs": [],
   "source": [
    "#df['Month']=df['Month'].astype(str).astype(int)\n",
    "#error"
   ]
  },
  {
   "cell_type": "code",
   "execution_count": 94,
   "id": "20631ce0",
   "metadata": {},
   "outputs": [
    {
     "data": {
      "text/plain": [
       "Month\n",
       "1            189\n",
       "4            119\n",
       "10           115\n",
       "3            100\n",
       "12            99\n",
       "6             95\n",
       "11            93\n",
       "8             90\n",
       "7             88\n",
       "5             84\n",
       "9             83\n",
       "2             64\n",
       "Sep            7\n",
       "July           4\n",
       "September      2\n",
       "Name: count, dtype: int64"
      ]
     },
     "execution_count": 94,
     "metadata": {},
     "output_type": "execute_result"
    }
   ],
   "source": [
    "df['Month'].value_counts()"
   ]
  },
  {
   "cell_type": "code",
   "execution_count": 95,
   "id": "70117acc",
   "metadata": {},
   "outputs": [
    {
     "name": "stderr",
     "output_type": "stream",
     "text": [
      "C:\\Users\\ASUS\\AppData\\Local\\Temp\\ipykernel_15628\\2042447164.py:1: FutureWarning: A value is trying to be set on a copy of a DataFrame or Series through chained assignment using an inplace method.\n",
      "The behavior will change in pandas 3.0. This inplace method will never work because the intermediate object on which we are setting values always behaves as a copy.\n",
      "\n",
      "For example, when doing 'df[col].method(value, inplace=True)', try using 'df.method({col: value}, inplace=True)' or df[col] = df[col].method(value) instead, to perform the operation inplace on the original object.\n",
      "\n",
      "\n",
      "  df['Month'].replace('Sep', 9, inplace=True)\n",
      "C:\\Users\\ASUS\\AppData\\Local\\Temp\\ipykernel_15628\\2042447164.py:2: FutureWarning: A value is trying to be set on a copy of a DataFrame or Series through chained assignment using an inplace method.\n",
      "The behavior will change in pandas 3.0. This inplace method will never work because the intermediate object on which we are setting values always behaves as a copy.\n",
      "\n",
      "For example, when doing 'df[col].method(value, inplace=True)', try using 'df.method({col: value}, inplace=True)' or df[col] = df[col].method(value) instead, to perform the operation inplace on the original object.\n",
      "\n",
      "\n",
      "  df['Month'].replace('September', 9, inplace=True)\n",
      "C:\\Users\\ASUS\\AppData\\Local\\Temp\\ipykernel_15628\\2042447164.py:3: FutureWarning: A value is trying to be set on a copy of a DataFrame or Series through chained assignment using an inplace method.\n",
      "The behavior will change in pandas 3.0. This inplace method will never work because the intermediate object on which we are setting values always behaves as a copy.\n",
      "\n",
      "For example, when doing 'df[col].method(value, inplace=True)', try using 'df.method({col: value}, inplace=True)' or df[col] = df[col].method(value) instead, to perform the operation inplace on the original object.\n",
      "\n",
      "\n",
      "  df['Month'].replace('July', 7, inplace=True)\n"
     ]
    }
   ],
   "source": [
    "df['Month'].replace('Sep', 9, inplace=True)\n",
    "df['Month'].replace('September', 9, inplace=True)\n",
    "df['Month'].replace('July', 7, inplace=True)"
   ]
  },
  {
   "cell_type": "code",
   "execution_count": 96,
   "id": "e87329a5",
   "metadata": {},
   "outputs": [
    {
     "data": {
      "text/plain": [
       "Month\n",
       "1     189\n",
       "4     119\n",
       "10    115\n",
       "3     100\n",
       "12     99\n",
       "6      95\n",
       "11     93\n",
       "8      90\n",
       "7      88\n",
       "5      84\n",
       "9      83\n",
       "2      64\n",
       "9       9\n",
       "7       4\n",
       "Name: count, dtype: int64"
      ]
     },
     "execution_count": 96,
     "metadata": {},
     "output_type": "execute_result"
    }
   ],
   "source": [
    "df['Month'].value_counts()"
   ]
  },
  {
   "cell_type": "code",
   "execution_count": 97,
   "id": "f8cb47bc",
   "metadata": {},
   "outputs": [],
   "source": [
    "df['Month']=df['Month'].astype(str).astype(int)"
   ]
  },
  {
   "cell_type": "code",
   "execution_count": 98,
   "id": "e8ea1568",
   "metadata": {},
   "outputs": [],
   "source": [
    "df['EnergyConsumption']=df['EnergyConsumption'].astype(str).astype(float)"
   ]
  },
  {
   "cell_type": "code",
   "execution_count": 99,
   "id": "438710ea",
   "metadata": {},
   "outputs": [
    {
     "data": {
      "text/plain": [
       "Month                  int32\n",
       "Hour                   int64\n",
       "DayOfWeek             object\n",
       "Holiday               object\n",
       "Temperature          float64\n",
       "Humidity             float64\n",
       "SquareFootage        float64\n",
       "Occupancy              int64\n",
       "HVACUsage             object\n",
       "LightingUsage         object\n",
       "RenewableEnergy      float64\n",
       "EnergyConsumption    float64\n",
       "dtype: object"
      ]
     },
     "execution_count": 99,
     "metadata": {},
     "output_type": "execute_result"
    }
   ],
   "source": [
    "df.dtypes"
   ]
  },
  {
   "cell_type": "code",
   "execution_count": 100,
   "id": "54780ad7",
   "metadata": {},
   "outputs": [
    {
     "data": {
      "text/plain": [
       "Month             int32\n",
       "Hour              int64\n",
       "Day              object\n",
       "Holiday          object\n",
       "Temperature     float64\n",
       "Humidity        float64\n",
       "SqFoot          float64\n",
       "Occupancy         int64\n",
       "HVAC             object\n",
       "Lighting         object\n",
       "REnergy         float64\n",
       "EConsumption    float64\n",
       "dtype: object"
      ]
     },
     "execution_count": 100,
     "metadata": {},
     "output_type": "execute_result"
    }
   ],
   "source": [
    "df = df.rename(columns={\"DayOfWeek\": \"Day\",\n",
    "                        \"SquareFootage\": \"SqFoot\",\n",
    "                        \"HVACUsage\": \"HVAC\",\n",
    "                        \"LightingUsage\": \"Lighting\",\n",
    "                        \"RenewableEnergy\": \"REnergy\",\n",
    "                        \"EnergyConsumption\": \"EConsumption\"})\n",
    "df.dtypes"
   ]
  },
  {
   "cell_type": "code",
   "execution_count": 101,
   "id": "2b336312",
   "metadata": {},
   "outputs": [
    {
     "data": {
      "text/html": [
       "<div>\n",
       "<style scoped>\n",
       "    .dataframe tbody tr th:only-of-type {\n",
       "        vertical-align: middle;\n",
       "    }\n",
       "\n",
       "    .dataframe tbody tr th {\n",
       "        vertical-align: top;\n",
       "    }\n",
       "\n",
       "    .dataframe thead th {\n",
       "        text-align: right;\n",
       "    }\n",
       "</style>\n",
       "<table border=\"1\" class=\"dataframe\">\n",
       "  <thead>\n",
       "    <tr style=\"text-align: right;\">\n",
       "      <th></th>\n",
       "      <th>Month</th>\n",
       "      <th>Hour</th>\n",
       "      <th>Day</th>\n",
       "      <th>Holiday</th>\n",
       "      <th>Temperature</th>\n",
       "      <th>Humidity</th>\n",
       "      <th>SqFoot</th>\n",
       "      <th>Occupancy</th>\n",
       "      <th>HVAC</th>\n",
       "      <th>Lighting</th>\n",
       "      <th>REnergy</th>\n",
       "      <th>EConsumption</th>\n",
       "    </tr>\n",
       "  </thead>\n",
       "  <tbody>\n",
       "    <tr>\n",
       "      <th>0</th>\n",
       "      <td>8</td>\n",
       "      <td>3</td>\n",
       "      <td>Sunday</td>\n",
       "      <td>Yes</td>\n",
       "      <td>24.492063</td>\n",
       "      <td>59.969085</td>\n",
       "      <td>1403.454805</td>\n",
       "      <td>7</td>\n",
       "      <td>On</td>\n",
       "      <td>Off</td>\n",
       "      <td>29.965327</td>\n",
       "      <td>82.057358</td>\n",
       "    </tr>\n",
       "    <tr>\n",
       "      <th>1</th>\n",
       "      <td>1</td>\n",
       "      <td>8</td>\n",
       "      <td>Wednesday</td>\n",
       "      <td>No</td>\n",
       "      <td>26.312114</td>\n",
       "      <td>51.408711</td>\n",
       "      <td>1220.547133</td>\n",
       "      <td>8</td>\n",
       "      <td>On</td>\n",
       "      <td>Off</td>\n",
       "      <td>5.986875</td>\n",
       "      <td>83.889177</td>\n",
       "    </tr>\n",
       "    <tr>\n",
       "      <th>2</th>\n",
       "      <td>1</td>\n",
       "      <td>19</td>\n",
       "      <td>Sunday</td>\n",
       "      <td>Yes</td>\n",
       "      <td>20.516186</td>\n",
       "      <td>40.918500</td>\n",
       "      <td>1114.230124</td>\n",
       "      <td>8</td>\n",
       "      <td>Off</td>\n",
       "      <td>On</td>\n",
       "      <td>20.489098</td>\n",
       "      <td>66.202098</td>\n",
       "    </tr>\n",
       "    <tr>\n",
       "      <th>3</th>\n",
       "      <td>7</td>\n",
       "      <td>3</td>\n",
       "      <td>Wednesday</td>\n",
       "      <td>Yes</td>\n",
       "      <td>20.879426</td>\n",
       "      <td>46.859237</td>\n",
       "      <td>1096.207227</td>\n",
       "      <td>7</td>\n",
       "      <td>Off</td>\n",
       "      <td>On</td>\n",
       "      <td>21.321157</td>\n",
       "      <td>66.439179</td>\n",
       "    </tr>\n",
       "    <tr>\n",
       "      <th>4</th>\n",
       "      <td>10</td>\n",
       "      <td>17</td>\n",
       "      <td>Saturday</td>\n",
       "      <td>No</td>\n",
       "      <td>23.015216</td>\n",
       "      <td>48.998158</td>\n",
       "      <td>1999.982252</td>\n",
       "      <td>1</td>\n",
       "      <td>Off</td>\n",
       "      <td>Off</td>\n",
       "      <td>3.966075</td>\n",
       "      <td>76.902272</td>\n",
       "    </tr>\n",
       "  </tbody>\n",
       "</table>\n",
       "</div>"
      ],
      "text/plain": [
       "   Month  Hour        Day Holiday  Temperature   Humidity       SqFoot  \\\n",
       "0      8     3     Sunday     Yes    24.492063  59.969085  1403.454805   \n",
       "1      1     8  Wednesday      No    26.312114  51.408711  1220.547133   \n",
       "2      1    19     Sunday     Yes    20.516186  40.918500  1114.230124   \n",
       "3      7     3  Wednesday     Yes    20.879426  46.859237  1096.207227   \n",
       "4     10    17   Saturday      No    23.015216  48.998158  1999.982252   \n",
       "\n",
       "   Occupancy HVAC Lighting    REnergy  EConsumption  \n",
       "0          7   On      Off  29.965327     82.057358  \n",
       "1          8   On      Off   5.986875     83.889177  \n",
       "2          8  Off       On  20.489098     66.202098  \n",
       "3          7  Off       On  21.321157     66.439179  \n",
       "4          1  Off      Off   3.966075     76.902272  "
      ]
     },
     "execution_count": 101,
     "metadata": {},
     "output_type": "execute_result"
    }
   ],
   "source": [
    "df.head()"
   ]
  },
  {
   "cell_type": "code",
   "execution_count": 102,
   "id": "0211341d",
   "metadata": {},
   "outputs": [
    {
     "data": {
      "text/plain": [
       "Day\n",
       "Sunday       192\n",
       "Saturday     184\n",
       "Thursday     182\n",
       "Friday       169\n",
       "Monday       169\n",
       "Wednesday    168\n",
       "Tuesday      168\n",
       "Name: count, dtype: int64"
      ]
     },
     "execution_count": 102,
     "metadata": {},
     "output_type": "execute_result"
    }
   ],
   "source": [
    "df['Day'].value_counts()"
   ]
  },
  {
   "cell_type": "code",
   "execution_count": 103,
   "id": "7f3d0941",
   "metadata": {},
   "outputs": [
    {
     "data": {
      "text/plain": [
       "Holiday\n",
       "No     675\n",
       "Yes    557\n",
       "Name: count, dtype: int64"
      ]
     },
     "execution_count": 103,
     "metadata": {},
     "output_type": "execute_result"
    }
   ],
   "source": [
    "df['Holiday'].value_counts()"
   ]
  },
  {
   "cell_type": "code",
   "execution_count": 104,
   "id": "57d450ee",
   "metadata": {},
   "outputs": [
    {
     "data": {
      "text/plain": [
       "HVAC\n",
       "Off    630\n",
       "On     602\n",
       "Name: count, dtype: int64"
      ]
     },
     "execution_count": 104,
     "metadata": {},
     "output_type": "execute_result"
    }
   ],
   "source": [
    "df['HVAC'].value_counts()"
   ]
  },
  {
   "cell_type": "code",
   "execution_count": 105,
   "id": "7ce6dd77",
   "metadata": {},
   "outputs": [
    {
     "data": {
      "text/plain": [
       "Lighting\n",
       "On     619\n",
       "Off    613\n",
       "Name: count, dtype: int64"
      ]
     },
     "execution_count": 105,
     "metadata": {},
     "output_type": "execute_result"
    }
   ],
   "source": [
    "df['Lighting'].value_counts()"
   ]
  },
  {
   "cell_type": "code",
   "execution_count": 106,
   "id": "1cf144c7",
   "metadata": {},
   "outputs": [
    {
     "data": {
      "text/plain": [
       "0"
      ]
     },
     "execution_count": 106,
     "metadata": {},
     "output_type": "execute_result"
    }
   ],
   "source": [
    "df.duplicated().sum()"
   ]
  },
  {
   "cell_type": "code",
   "execution_count": 107,
   "id": "bf2884b9",
   "metadata": {},
   "outputs": [
    {
     "data": {
      "text/plain": [
       "Month           0\n",
       "Hour            0\n",
       "Day             0\n",
       "Holiday         0\n",
       "Temperature     0\n",
       "Humidity        0\n",
       "SqFoot          0\n",
       "Occupancy       0\n",
       "HVAC            0\n",
       "Lighting        0\n",
       "REnergy         0\n",
       "EConsumption    3\n",
       "dtype: int64"
      ]
     },
     "execution_count": 107,
     "metadata": {},
     "output_type": "execute_result"
    }
   ],
   "source": [
    "df.isnull().sum()"
   ]
  },
  {
   "cell_type": "code",
   "execution_count": 108,
   "id": "371be0f1",
   "metadata": {},
   "outputs": [
    {
     "data": {
      "text/plain": [
       "76.63390986210536"
      ]
     },
     "execution_count": 108,
     "metadata": {},
     "output_type": "execute_result"
    }
   ],
   "source": [
    "np.mean(df['EConsumption'])"
   ]
  },
  {
   "cell_type": "code",
   "execution_count": 109,
   "id": "3bacdaaa",
   "metadata": {},
   "outputs": [
    {
     "name": "stderr",
     "output_type": "stream",
     "text": [
      "C:\\Users\\ASUS\\AppData\\Local\\Temp\\ipykernel_15628\\3770269774.py:1: FutureWarning: A value is trying to be set on a copy of a DataFrame or Series through chained assignment using an inplace method.\n",
      "The behavior will change in pandas 3.0. This inplace method will never work because the intermediate object on which we are setting values always behaves as a copy.\n",
      "\n",
      "For example, when doing 'df[col].method(value, inplace=True)', try using 'df.method({col: value}, inplace=True)' or df[col] = df[col].method(value) instead, to perform the operation inplace on the original object.\n",
      "\n",
      "\n",
      "  df['EConsumption'].fillna(76.63390986210536, inplace=True)\n"
     ]
    }
   ],
   "source": [
    "df['EConsumption'].fillna(76.63390986210536, inplace=True)"
   ]
  },
  {
   "cell_type": "code",
   "execution_count": 110,
   "id": "361279da",
   "metadata": {},
   "outputs": [
    {
     "data": {
      "text/plain": [
       "Month           0\n",
       "Hour            0\n",
       "Day             0\n",
       "Holiday         0\n",
       "Temperature     0\n",
       "Humidity        0\n",
       "SqFoot          0\n",
       "Occupancy       0\n",
       "HVAC            0\n",
       "Lighting        0\n",
       "REnergy         0\n",
       "EConsumption    0\n",
       "dtype: int64"
      ]
     },
     "execution_count": 110,
     "metadata": {},
     "output_type": "execute_result"
    }
   ],
   "source": [
    "df.isnull().sum()"
   ]
  },
  {
   "cell_type": "code",
   "execution_count": 111,
   "id": "e6efff36",
   "metadata": {},
   "outputs": [
    {
     "data": {
      "text/plain": [
       "Month             int32\n",
       "Hour              int64\n",
       "Day              object\n",
       "Holiday          object\n",
       "Temperature     float64\n",
       "Humidity        float64\n",
       "SqFoot          float64\n",
       "Occupancy         int64\n",
       "HVAC             object\n",
       "Lighting         object\n",
       "REnergy         float64\n",
       "EConsumption    float64\n",
       "dtype: object"
      ]
     },
     "execution_count": 111,
     "metadata": {},
     "output_type": "execute_result"
    }
   ],
   "source": [
    "df.dtypes"
   ]
  },
  {
   "cell_type": "code",
   "execution_count": 112,
   "id": "74d9e3de",
   "metadata": {},
   "outputs": [
    {
     "data": {
      "image/png": "[encoded data removed]",
      "text/plain": [
       "<Figure size 640x480 with 1 Axes>"
      ]
     },
     "metadata": {},
     "output_type": "display_data"
    }
   ],
   "source": [
    "boxplot = df.boxplot(column=['Month','Hour']) \n",
    "plt.show()"
   ]
  },
  {
   "cell_type": "code",
   "execution_count": 113,
   "id": "8cbb3542",
   "metadata": {},
   "outputs": [
    {
     "data": {
      "image/png": "[encoded data removed]",
      "text/plain": [
       "<Figure size 640x480 with 1 Axes>"
      ]
     },
     "metadata": {},
     "output_type": "display_data"
    }
   ],
   "source": [
    "boxplot = df.boxplot(column=['Temperature', 'Humidity']) \n",
    "plt.show()"
   ]
  },
  {
   "cell_type": "code",
   "execution_count": 114,
   "id": "257316b6",
   "metadata": {},
   "outputs": [
    {
     "data": {
      "image/png": "[encoded data removed]",
      "text/plain": [
       "<Figure size 640x480 with 1 Axes>"
      ]
     },
     "metadata": {},
     "output_type": "display_data"
    }
   ],
   "source": [
    "boxplot = df.boxplot(column=['SqFoot']) \n",
    "plt.show()"
   ]
  },
  {
   "cell_type": "code",
   "execution_count": 115,
   "id": "55344c91",
   "metadata": {},
   "outputs": [
    {
     "data": {
      "image/png": "[encoded data removed]",
      "text/plain": [
       "<Figure size 640x480 with 1 Axes>"
      ]
     },
     "metadata": {},
     "output_type": "display_data"
    }
   ],
   "source": [
    "boxplot = df.boxplot(column=['Occupancy']) \n",
    "plt.show()"
   ]
  },
  {
   "cell_type": "code",
   "execution_count": 116,
   "id": "a45a9bf7",
   "metadata": {},
   "outputs": [
    {
     "data": {
      "image/png": "[encoded data removed]",
      "text/plain": [
       "<Figure size 640x480 with 1 Axes>"
      ]
     },
     "metadata": {},
     "output_type": "display_data"
    }
   ],
   "source": [
    "boxplot = df.boxplot(column=['REnergy','EConsumption']) \n",
    "plt.show()"
   ]
  },
  {
   "cell_type": "code",
   "execution_count": 117,
   "id": "446823e6",
   "metadata": {},
   "outputs": [],
   "source": [
    "#tidak ada outlier"
   ]
  },
  {
   "cell_type": "code",
   "execution_count": 118,
   "id": "da033e89",
   "metadata": {},
   "outputs": [
    {
     "data": {
      "text/plain": [
       "Day\n",
       "Sunday       192\n",
       "Saturday     184\n",
       "Thursday     182\n",
       "Friday       169\n",
       "Monday       169\n",
       "Wednesday    168\n",
       "Tuesday      168\n",
       "Name: count, dtype: int64"
      ]
     },
     "execution_count": 118,
     "metadata": {},
     "output_type": "execute_result"
    }
   ],
   "source": [
    "df['Day'].value_counts()"
   ]
  },
  {
   "cell_type": "code",
   "execution_count": 119,
   "id": "5b2ee980",
   "metadata": {},
   "outputs": [
    {
     "data": {
      "text/plain": [
       "Holiday\n",
       "No     675\n",
       "Yes    557\n",
       "Name: count, dtype: int64"
      ]
     },
     "execution_count": 119,
     "metadata": {},
     "output_type": "execute_result"
    }
   ],
   "source": [
    "df['Holiday'].value_counts()"
   ]
  },
  {
   "cell_type": "code",
   "execution_count": 120,
   "id": "9daf56bc",
   "metadata": {},
   "outputs": [
    {
     "data": {
      "text/plain": [
       "HVAC\n",
       "Off    630\n",
       "On     602\n",
       "Name: count, dtype: int64"
      ]
     },
     "execution_count": 120,
     "metadata": {},
     "output_type": "execute_result"
    }
   ],
   "source": [
    "df['HVAC'].value_counts()"
   ]
  },
  {
   "cell_type": "code",
   "execution_count": 121,
   "id": "06669c99",
   "metadata": {},
   "outputs": [
    {
     "data": {
      "text/plain": [
       "Lighting\n",
       "On     619\n",
       "Off    613\n",
       "Name: count, dtype: int64"
      ]
     },
     "execution_count": 121,
     "metadata": {},
     "output_type": "execute_result"
    }
   ],
   "source": [
    "df['Lighting'].value_counts()"
   ]
  },
  {
   "cell_type": "code",
   "execution_count": 122,
   "id": "a38828c0",
   "metadata": {},
   "outputs": [
    {
     "name": "stderr",
     "output_type": "stream",
     "text": [
      "C:\\Users\\ASUS\\AppData\\Local\\Temp\\ipykernel_15628\\3357116342.py:16: FutureWarning: Downcasting behavior in `replace` is deprecated and will be removed in a future version. To retain the old behavior, explicitly call `result.infer_objects(copy=False)`. To opt-in to the future behavior, set `pd.set_option('future.no_silent_downcasting', True)`\n",
      "  df = df.replace(df_encode)\n"
     ]
    }
   ],
   "source": [
    "df_encode = {\n",
    "    \"Holiday\": {\"Yes\": 1, \"No\": 0},\n",
    "    \"HVAC\": {\"On\": 1, \"Off\": 0},\n",
    "    \"Lighting\": {\"On\": 1, \"Off\": 0},\n",
    "    \"Day\": {\n",
    "        \"Monday\": 0,\n",
    "        \"Tuesday\": 1,\n",
    "        \"Wednesday\": 2,\n",
    "        \"Thursday\": 3,\n",
    "        \"Friday\": 4,\n",
    "        \"Saturday\": 5,\n",
    "        \"Sunday\": 6\n",
    "    }\n",
    "}\n",
    "\n",
    "df = df.replace(df_encode)"
   ]
  },
  {
   "cell_type": "code",
   "execution_count": 123,
   "id": "e4e49a2c",
   "metadata": {},
   "outputs": [
    {
     "data": {
      "text/plain": [
       "Month             int32\n",
       "Hour              int64\n",
       "Day               int64\n",
       "Holiday           int64\n",
       "Temperature     float64\n",
       "Humidity        float64\n",
       "SqFoot          float64\n",
       "Occupancy         int64\n",
       "HVAC              int64\n",
       "Lighting          int64\n",
       "REnergy         float64\n",
       "EConsumption    float64\n",
       "dtype: object"
      ]
     },
     "execution_count": 123,
     "metadata": {},
     "output_type": "execute_result"
    }
   ],
   "source": [
    "df.dtypes"
   ]
  },
  {
   "cell_type": "code",
   "execution_count": 124,
   "id": "31c6f025",
   "metadata": {},
   "outputs": [
    {
     "data": {
      "text/html": [
       "<div>\n",
       "<style scoped>\n",
       "    .dataframe tbody tr th:only-of-type {\n",
       "        vertical-align: middle;\n",
       "    }\n",
       "\n",
       "    .dataframe tbody tr th {\n",
       "        vertical-align: top;\n",
       "    }\n",
       "\n",
       "    .dataframe thead th {\n",
       "        text-align: right;\n",
       "    }\n",
       "</style>\n",
       "<table border=\"1\" class=\"dataframe\">\n",
       "  <thead>\n",
       "    <tr style=\"text-align: right;\">\n",
       "      <th></th>\n",
       "      <th>Month</th>\n",
       "      <th>Hour</th>\n",
       "      <th>Day</th>\n",
       "      <th>Holiday</th>\n",
       "      <th>Temperature</th>\n",
       "      <th>Humidity</th>\n",
       "      <th>SqFoot</th>\n",
       "      <th>Occupancy</th>\n",
       "      <th>HVAC</th>\n",
       "      <th>Lighting</th>\n",
       "      <th>REnergy</th>\n",
       "      <th>EConsumption</th>\n",
       "    </tr>\n",
       "  </thead>\n",
       "  <tbody>\n",
       "    <tr>\n",
       "      <th>0</th>\n",
       "      <td>8</td>\n",
       "      <td>3</td>\n",
       "      <td>6</td>\n",
       "      <td>1</td>\n",
       "      <td>24.492063</td>\n",
       "      <td>59.969085</td>\n",
       "      <td>1403.454805</td>\n",
       "      <td>7</td>\n",
       "      <td>1</td>\n",
       "      <td>0</td>\n",
       "      <td>29.965327</td>\n",
       "      <td>82.057358</td>\n",
       "    </tr>\n",
       "    <tr>\n",
       "      <th>1</th>\n",
       "      <td>1</td>\n",
       "      <td>8</td>\n",
       "      <td>2</td>\n",
       "      <td>0</td>\n",
       "      <td>26.312114</td>\n",
       "      <td>51.408711</td>\n",
       "      <td>1220.547133</td>\n",
       "      <td>8</td>\n",
       "      <td>1</td>\n",
       "      <td>0</td>\n",
       "      <td>5.986875</td>\n",
       "      <td>83.889177</td>\n",
       "    </tr>\n",
       "    <tr>\n",
       "      <th>2</th>\n",
       "      <td>1</td>\n",
       "      <td>19</td>\n",
       "      <td>6</td>\n",
       "      <td>1</td>\n",
       "      <td>20.516186</td>\n",
       "      <td>40.918500</td>\n",
       "      <td>1114.230124</td>\n",
       "      <td>8</td>\n",
       "      <td>0</td>\n",
       "      <td>1</td>\n",
       "      <td>20.489098</td>\n",
       "      <td>66.202098</td>\n",
       "    </tr>\n",
       "    <tr>\n",
       "      <th>3</th>\n",
       "      <td>7</td>\n",
       "      <td>3</td>\n",
       "      <td>2</td>\n",
       "      <td>1</td>\n",
       "      <td>20.879426</td>\n",
       "      <td>46.859237</td>\n",
       "      <td>1096.207227</td>\n",
       "      <td>7</td>\n",
       "      <td>0</td>\n",
       "      <td>1</td>\n",
       "      <td>21.321157</td>\n",
       "      <td>66.439179</td>\n",
       "    </tr>\n",
       "    <tr>\n",
       "      <th>4</th>\n",
       "      <td>10</td>\n",
       "      <td>17</td>\n",
       "      <td>5</td>\n",
       "      <td>0</td>\n",
       "      <td>23.015216</td>\n",
       "      <td>48.998158</td>\n",
       "      <td>1999.982252</td>\n",
       "      <td>1</td>\n",
       "      <td>0</td>\n",
       "      <td>0</td>\n",
       "      <td>3.966075</td>\n",
       "      <td>76.902272</td>\n",
       "    </tr>\n",
       "  </tbody>\n",
       "</table>\n",
       "</div>"
      ],
      "text/plain": [
       "   Month  Hour  Day  Holiday  Temperature   Humidity       SqFoot  Occupancy  \\\n",
       "0      8     3    6        1    24.492063  59.969085  1403.454805          7   \n",
       "1      1     8    2        0    26.312114  51.408711  1220.547133          8   \n",
       "2      1    19    6        1    20.516186  40.918500  1114.230124          8   \n",
       "3      7     3    2        1    20.879426  46.859237  1096.207227          7   \n",
       "4     10    17    5        0    23.015216  48.998158  1999.982252          1   \n",
       "\n",
       "   HVAC  Lighting    REnergy  EConsumption  \n",
       "0     1         0  29.965327     82.057358  \n",
       "1     1         0   5.986875     83.889177  \n",
       "2     0         1  20.489098     66.202098  \n",
       "3     0         1  21.321157     66.439179  \n",
       "4     0         0   3.966075     76.902272  "
      ]
     },
     "execution_count": 124,
     "metadata": {},
     "output_type": "execute_result"
    }
   ],
   "source": [
    "df.head()"
   ]
  },
  {
   "cell_type": "markdown",
   "id": "67294c14",
   "metadata": {},
   "source": [
    "### Target Variable: Econsumption"
   ]
  },
  {
   "cell_type": "code",
   "execution_count": 125,
   "id": "53cad716",
   "metadata": {},
   "outputs": [],
   "source": [
    "#scalling\n",
    "from sklearn.preprocessing import MinMaxScaler\n",
    "\n",
    "features_to_scale = ['Month', 'Hour', 'Temperature', 'Humidity', 'SqFoot', 'Occupancy', 'REnergy']\n",
    "\n",
    "scaler = MinMaxScaler()\n",
    "df[features_to_scale] = scaler.fit_transform(df[features_to_scale])\n"
   ]
  },
  {
   "cell_type": "code",
   "execution_count": 126,
   "id": "cac90a53",
   "metadata": {},
   "outputs": [],
   "source": [
    "from sklearn.model_selection import train_test_split\n",
    "\n",
    "X = df.drop(columns=['EConsumption']) # feature var\n",
    "y = df['EConsumption'] # target var\n",
    "\n",
    "X_temp, X_test, y_temp, y_test = train_test_split(X, y, test_size=0.2, random_state=42)\n",
    "\n",
    "X_train, X_val, y_train, y_val = train_test_split(X_temp, y_temp, test_size=0.125, random_state=42)\n"
   ]
  },
  {
   "cell_type": "markdown",
   "id": "6a838781",
   "metadata": {},
   "source": [
    "## baseline model ANN"
   ]
  },
  {
   "cell_type": "code",
   "execution_count": 127,
   "id": "5a4ec250",
   "metadata": {},
   "outputs": [
    {
     "name": "stdout",
     "output_type": "stream",
     "text": [
      "Input feature: 11\n",
      "minimal neuron: 22\n"
     ]
    }
   ],
   "source": [
    "print(f\"Input feature: {X_train.shape[1] }\")\n",
    "print(f\"minimal neuron: {X_train.shape[1] * 2 }\")\n"
   ]
  },
  {
   "cell_type": "markdown",
   "id": "ac4aa930",
   "metadata": {},
   "source": [
    "#### ketentuan:\n",
    "- minimal 2 hidden layer\n",
    "- neuronnya harus >= input dimention\n",
    "- harus pake fungsi aktivasi RelU\n",
    "- training minimal 10 epoch"
   ]
  },
  {
   "cell_type": "markdown",
   "id": "19e33997",
   "metadata": {},
   "source": [
    "\n",
    "### Model 1 -> Sequential Model"
   ]
  },
  {
   "cell_type": "code",
   "execution_count": 128,
   "id": "dea2c473",
   "metadata": {},
   "outputs": [
    {
     "name": "stdout",
     "output_type": "stream",
     "text": [
      "2.15.0\n"
     ]
    }
   ],
   "source": [
    "import tensorflow as tf\n",
    "print(tf.__version__)\n"
   ]
  },
  {
   "cell_type": "code",
   "execution_count": 129,
   "id": "0824a6bd",
   "metadata": {},
   "outputs": [
    {
     "name": "stdout",
     "output_type": "stream",
     "text": [
      "Model: \"sequential_13\"\n",
      "_________________________________________________________________\n",
      " Layer (type)                Output Shape              Param #   \n",
      "=================================================================\n",
      " layer1 (Dense)              (None, 76)                912       \n",
      "                                                                 \n",
      " layer2 (Dense)              (None, 98)                7546      \n",
      "                                                                 \n",
      " layer3 (Dense)              (None, 38)                3762      \n",
      "                                                                 \n",
      " outputLayer (Dense)         (None, 1)                 39        \n",
      "                                                                 \n",
      "=================================================================\n",
      "Total params: 12259 (47.89 KB)\n",
      "Trainable params: 12259 (47.89 KB)\n",
      "Non-trainable params: 0 (0.00 Byte)\n",
      "_________________________________________________________________\n"
     ]
    }
   ],
   "source": [
    "from tensorflow.keras.models import Sequential \n",
    "from tensorflow.keras.layers import Dense,Input \n",
    "\n",
    "sequential = Sequential([  \n",
    "    Input(shape=(11,)), # input layer\n",
    "    Dense(76, activation='relu', name=\"layer1\"),  # layer pertama\n",
    "    Dense(98, activation='relu', name=\"layer2\"),  # layer kedua\n",
    "    Dense(38, activation='relu', name=\"layer3\"),  # layer ketiga\n",
    "    Dense(1, name=\"outputLayer\")  # output layer\n",
    "])\n",
    "\n",
    "# model complication\n",
    "sequential.compile(optimizer='adam',\n",
    "              loss='binary_crossentropy',\n",
    "              metrics=['accuracy'])\n",
    "\n",
    "sequential.summary()\n"
   ]
  },
  {
   "cell_type": "markdown",
   "id": "d33c4e92",
   "metadata": {},
   "source": [
    "### Model 2 -> Functional Model"
   ]
  },
  {
   "cell_type": "code",
   "execution_count": 130,
   "id": "b2b48305",
   "metadata": {},
   "outputs": [
    {
     "name": "stdout",
     "output_type": "stream",
     "text": [
      "Model: \"model_11\"\n",
      "_________________________________________________________________\n",
      " Layer (type)                Output Shape              Param #   \n",
      "=================================================================\n",
      " input_15 (InputLayer)       [(None, 11)]              0         \n",
      "                                                                 \n",
      " layer1 (Dense)              (None, 83)                996       \n",
      "                                                                 \n",
      " layer2 (Dense)              (None, 66)                5544      \n",
      "                                                                 \n",
      " layer3 (Dense)              (None, 40)                2680      \n",
      "                                                                 \n",
      " outputLayer (Dense)         (None, 1)                 41        \n",
      "                                                                 \n",
      "=================================================================\n",
      "Total params: 9261 (36.18 KB)\n",
      "Trainable params: 9261 (36.18 KB)\n",
      "Non-trainable params: 0 (0.00 Byte)\n",
      "_________________________________________________________________\n"
     ]
    }
   ],
   "source": [
    "from tensorflow.keras.models import Model\n",
    "\n",
    "# input layer\n",
    "inputlayer = Input(shape=(11,)) \n",
    "\n",
    "# hidden layers\n",
    "x = Dense(83, activation='relu', name='layer1')(inputlayer)   # layer pertama\n",
    "x = Dense(66, activation='relu', name='layer2')(x)            # layer kedua\n",
    "x = Dense(40, activation='relu', name='layer3')(x)            # layer ketiga\n",
    "\n",
    "# output layer\n",
    "outputlayer = Dense(1, name='outputLayer')(x)  \n",
    "\n",
    "functional = Model(inputs=inputlayer, outputs=outputlayer)\n",
    "\n",
    "# model complication\n",
    "functional.compile(optimizer='adam',\n",
    "              loss='binary_crossentropy',\n",
    "              metrics=['accuracy'])\n",
    "\n",
    "functional.summary()  \n"
   ]
  },
  {
   "cell_type": "markdown",
   "id": "e6af3a3d",
   "metadata": {},
   "source": [
    "### training (10 epoch)"
   ]
  },
  {
   "cell_type": "code",
   "execution_count": 131,
   "id": "e1f911ef",
   "metadata": {},
   "outputs": [
    {
     "name": "stdout",
     "output_type": "stream",
     "text": [
      "Epoch 1/10\n",
      "27/27 [==============================] - 6s 62ms/step - loss: -603.1845 - accuracy: 0.0000e+00 - val_loss: -1173.1846 - val_accuracy: 0.0000e+00\n",
      "Epoch 2/10\n",
      "27/27 [==============================] - 0s 16ms/step - loss: -1146.4174 - accuracy: 0.0000e+00 - val_loss: -1173.1846 - val_accuracy: 0.0000e+00\n",
      "Epoch 3/10\n",
      "27/27 [==============================] - 0s 11ms/step - loss: -1148.4795 - accuracy: 0.0000e+00 - val_loss: -1173.1846 - val_accuracy: 0.0000e+00\n",
      "Epoch 4/10\n",
      "27/27 [==============================] - 0s 14ms/step - loss: -1148.5338 - accuracy: 0.0000e+00 - val_loss: -1173.1846 - val_accuracy: 0.0000e+00\n",
      "Epoch 5/10\n",
      "27/27 [==============================] - 0s 9ms/step - loss: -1149.4912 - accuracy: 0.0000e+00 - val_loss: -1173.1846 - val_accuracy: 0.0000e+00\n",
      "Epoch 6/10\n",
      "27/27 [==============================] - 0s 8ms/step - loss: -1149.4913 - accuracy: 0.0000e+00 - val_loss: -1173.1846 - val_accuracy: 0.0000e+00\n",
      "Epoch 7/10\n",
      "27/27 [==============================] - 0s 6ms/step - loss: -1149.4913 - accuracy: 0.0000e+00 - val_loss: -1173.1846 - val_accuracy: 0.0000e+00\n",
      "Epoch 8/10\n",
      "27/27 [==============================] - 0s 4ms/step - loss: -1149.4913 - accuracy: 0.0000e+00 - val_loss: -1173.1846 - val_accuracy: 0.0000e+00\n",
      "Epoch 9/10\n",
      "27/27 [==============================] - 0s 5ms/step - loss: -1149.4915 - accuracy: 0.0000e+00 - val_loss: -1173.1846 - val_accuracy: 0.0000e+00\n",
      "Epoch 10/10\n",
      "27/27 [==============================] - 0s 4ms/step - loss: -1149.4912 - accuracy: 0.0000e+00 - val_loss: -1173.1846 - val_accuracy: 0.0000e+00\n",
      "Epoch 1/10\n",
      "27/27 [==============================] - 2s 23ms/step - loss: -610.3592 - accuracy: 0.0000e+00 - val_loss: -1139.4872 - val_accuracy: 0.0000e+00\n",
      "Epoch 2/10\n",
      "27/27 [==============================] - 0s 5ms/step - loss: -1145.2349 - accuracy: 0.0000e+00 - val_loss: -1173.1846 - val_accuracy: 0.0000e+00\n",
      "Epoch 3/10\n",
      "27/27 [==============================] - 0s 4ms/step - loss: -1147.5502 - accuracy: 0.0000e+00 - val_loss: -1173.1846 - val_accuracy: 0.0000e+00\n",
      "Epoch 4/10\n",
      "27/27 [==============================] - 0s 4ms/step - loss: -1148.4460 - accuracy: 0.0000e+00 - val_loss: -1173.1846 - val_accuracy: 0.0000e+00\n",
      "Epoch 5/10\n",
      "27/27 [==============================] - 0s 4ms/step - loss: -1149.4913 - accuracy: 0.0000e+00 - val_loss: -1173.1846 - val_accuracy: 0.0000e+00\n",
      "Epoch 6/10\n",
      "27/27 [==============================] - 0s 4ms/step - loss: -1149.4913 - accuracy: 0.0000e+00 - val_loss: -1173.1846 - val_accuracy: 0.0000e+00\n",
      "Epoch 7/10\n",
      "27/27 [==============================] - 0s 4ms/step - loss: -1149.4915 - accuracy: 0.0000e+00 - val_loss: -1173.1846 - val_accuracy: 0.0000e+00\n",
      "Epoch 8/10\n",
      "27/27 [==============================] - 0s 4ms/step - loss: -1149.4915 - accuracy: 0.0000e+00 - val_loss: -1173.1846 - val_accuracy: 0.0000e+00\n",
      "Epoch 9/10\n",
      "27/27 [==============================] - 0s 4ms/step - loss: -1149.4913 - accuracy: 0.0000e+00 - val_loss: -1173.1846 - val_accuracy: 0.0000e+00\n",
      "Epoch 10/10\n",
      "27/27 [==============================] - 0s 4ms/step - loss: -1149.4913 - accuracy: 0.0000e+00 - val_loss: -1173.1846 - val_accuracy: 0.0000e+00\n"
     ]
    }
   ],
   "source": [
    "\n",
    "history_seq = sequential.fit(X_train, y_train, \n",
    "                            validation_data=(X_val, y_val),  \n",
    "                            epochs=10,  \n",
    "                            batch_size=32,\n",
    "                            validation_split=0.2)  \n",
    "\n",
    "\n",
    "history_func = functional.fit(X_train, y_train, \n",
    "                              validation_data=(X_val, y_val),  \n",
    "                              epochs=10,  \n",
    "                              batch_size=32,\n",
    "                              validation_split=0.2)  \n"
   ]
  },
  {
   "cell_type": "markdown",
   "id": "e80e91e4",
   "metadata": {},
   "source": [
    "### Modifikasi Model"
   ]
  },
  {
   "cell_type": "markdown",
   "id": "86ceaaf5",
   "metadata": {},
   "source": [
    "#### bisa ubah:\n",
    "- jumlah neuron\n",
    "- jumlah layer\n",
    "- activation function\n",
    "- hyper parameter fine-tuning"
   ]
  },
  {
   "cell_type": "markdown",
   "id": "9a46942c",
   "metadata": {},
   "source": [
    "#### sequential model"
   ]
  },
  {
   "cell_type": "code",
   "execution_count": 136,
   "id": "181a0a76",
   "metadata": {},
   "outputs": [
    {
     "name": "stdout",
     "output_type": "stream",
     "text": [
      "Model: \"sequential_14\"\n",
      "_________________________________________________________________\n",
      " Layer (type)                Output Shape              Param #   \n",
      "=================================================================\n",
      " layer1 (Dense)              (None, 88)                1056      \n",
      "                                                                 \n",
      " layer2 (Dense)              (None, 93)                8277      \n",
      "                                                                 \n",
      " layer3 (Dense)              (None, 45)                4230      \n",
      "                                                                 \n",
      " layer4 (Dense)              (None, 63)                2898      \n",
      "                                                                 \n",
      " outputLayer (Dense)         (None, 1)                 64        \n",
      "                                                                 \n",
      "=================================================================\n",
      "Total params: 16525 (64.55 KB)\n",
      "Trainable params: 16525 (64.55 KB)\n",
      "Non-trainable params: 0 (0.00 Byte)\n",
      "_________________________________________________________________\n"
     ]
    }
   ],
   "source": [
    "sequential_moded = Sequential([  \n",
    "    Input(shape=(11,)), # input layer\n",
    "    Dense(88, activation='relu', name=\"layer1\"),  # layer pertama\n",
    "    Dense(93, activation='tanh', name=\"layer2\"),  # layer kedua\n",
    "    Dense(45, activation='sigmoid', name=\"layer3\"),  # layer ketiga\n",
    "    Dense(63, activation='relu', name=\"layer4\"),  # layer keempat\n",
    "    Dense(1, name=\"outputLayer\")  # output layer\n",
    "])\n",
    "\n",
    "# model complication\n",
    "sequential_moded.compile(optimizer='adam',\n",
    "              loss='binary_crossentropy',\n",
    "              metrics=['accuracy'])\n",
    "\n",
    "sequential_moded.summary()\n"
   ]
  },
  {
   "cell_type": "markdown",
   "id": "20919707",
   "metadata": {},
   "source": [
    "#### Functional model"
   ]
  },
  {
   "cell_type": "code",
   "execution_count": 137,
   "id": "aaefa50c",
   "metadata": {},
   "outputs": [
    {
     "name": "stdout",
     "output_type": "stream",
     "text": [
      "Model: \"model_12\"\n",
      "_________________________________________________________________\n",
      " Layer (type)                Output Shape              Param #   \n",
      "=================================================================\n",
      " input_17 (InputLayer)       [(None, 11)]              0         \n",
      "                                                                 \n",
      " layer1 (Dense)              (None, 32)                384       \n",
      "                                                                 \n",
      " layer2 (Dense)              (None, 48)                1584      \n",
      "                                                                 \n",
      " layer3 (Dense)              (None, 83)                4067      \n",
      "                                                                 \n",
      " layer4 (Dense)              (None, 55)                4620      \n",
      "                                                                 \n",
      " layer5 (Dense)              (None, 73)                4088      \n",
      "                                                                 \n",
      " outputLayer (Dense)         (None, 1)                 74        \n",
      "                                                                 \n",
      "=================================================================\n",
      "Total params: 14817 (57.88 KB)\n",
      "Trainable params: 14817 (57.88 KB)\n",
      "Non-trainable params: 0 (0.00 Byte)\n",
      "_________________________________________________________________\n"
     ]
    }
   ],
   "source": [
    "# input layer\n",
    "inputlayer = Input(shape=(11,)) \n",
    "\n",
    "# hidden layers\n",
    "x = Dense(32, activation='tanh', name='layer1')(inputlayer)   # layer pertama\n",
    "x = Dense(48, activation='relu', name='layer2')(x)            # layer kedua\n",
    "x = Dense(83, activation='tanh', name='layer3')(x)\n",
    "x = Dense(55, activation='relu', name='layer4')(x)\n",
    "x = Dense(73, activation='sigmoid', name='layer5')(x)\n",
    "# output layer\n",
    "outputlayer = Dense(1, name='outputLayer')(x)  \n",
    "\n",
    "functional_moded = Model(inputs=inputlayer, outputs=outputlayer)\n",
    "\n",
    "# model complication\n",
    "functional_moded.compile(optimizer='adam',\n",
    "              loss='binary_crossentropy',\n",
    "              metrics=['accuracy'])\n",
    "\n",
    "functional_moded.summary()  "
   ]
  },
  {
   "cell_type": "code",
   "execution_count": 138,
   "id": "75a4d332",
   "metadata": {},
   "outputs": [
    {
     "name": "stdout",
     "output_type": "stream",
     "text": [
      "Epoch 1/10\n",
      "27/27 [==============================] - 2s 16ms/step - loss: 1178.1615 - accuracy: 0.0000e+00 - val_loss: 1202.1277 - val_accuracy: 0.0000e+00\n",
      "Epoch 2/10\n",
      "27/27 [==============================] - 0s 7ms/step - loss: 1178.1615 - accuracy: 0.0000e+00 - val_loss: 1202.1277 - val_accuracy: 0.0000e+00\n",
      "Epoch 3/10\n",
      "27/27 [==============================] - 0s 5ms/step - loss: 1178.1613 - accuracy: 0.0000e+00 - val_loss: 1202.1277 - val_accuracy: 0.0000e+00\n",
      "Epoch 4/10\n",
      "27/27 [==============================] - 0s 4ms/step - loss: 1178.1615 - accuracy: 0.0000e+00 - val_loss: 1202.1277 - val_accuracy: 0.0000e+00\n",
      "Epoch 5/10\n",
      "27/27 [==============================] - 0s 8ms/step - loss: 1178.1615 - accuracy: 0.0000e+00 - val_loss: 1202.1277 - val_accuracy: 0.0000e+00\n",
      "Epoch 6/10\n",
      "27/27 [==============================] - 0s 4ms/step - loss: 1178.1614 - accuracy: 0.0000e+00 - val_loss: 1202.1277 - val_accuracy: 0.0000e+00\n",
      "Epoch 7/10\n",
      "27/27 [==============================] - 0s 5ms/step - loss: 1178.1615 - accuracy: 0.0000e+00 - val_loss: 1202.1277 - val_accuracy: 0.0000e+00\n",
      "Epoch 8/10\n",
      "27/27 [==============================] - 0s 5ms/step - loss: 1178.1614 - accuracy: 0.0000e+00 - val_loss: 1202.1277 - val_accuracy: 0.0000e+00\n",
      "Epoch 9/10\n",
      "27/27 [==============================] - 0s 6ms/step - loss: 1178.1615 - accuracy: 0.0000e+00 - val_loss: 1202.1277 - val_accuracy: 0.0000e+00\n",
      "Epoch 10/10\n",
      "27/27 [==============================] - 0s 4ms/step - loss: 1178.1613 - accuracy: 0.0000e+00 - val_loss: 1202.1277 - val_accuracy: 0.0000e+00\n",
      "Epoch 1/10\n",
      "27/27 [==============================] - 16s 11ms/step - loss: -876.6738 - accuracy: 0.0000e+00 - val_loss: -1173.1846 - val_accuracy: 0.0000e+00\n",
      "Epoch 2/10\n",
      "27/27 [==============================] - 0s 4ms/step - loss: -1149.4915 - accuracy: 0.0000e+00 - val_loss: -1173.1846 - val_accuracy: 0.0000e+00\n",
      "Epoch 3/10\n",
      "27/27 [==============================] - 0s 4ms/step - loss: -1149.4913 - accuracy: 0.0000e+00 - val_loss: -1173.1846 - val_accuracy: 0.0000e+00\n",
      "Epoch 4/10\n",
      "27/27 [==============================] - 0s 4ms/step - loss: -1149.4915 - accuracy: 0.0000e+00 - val_loss: -1173.1846 - val_accuracy: 0.0000e+00\n",
      "Epoch 5/10\n",
      "27/27 [==============================] - 0s 4ms/step - loss: -1149.4913 - accuracy: 0.0000e+00 - val_loss: -1173.1846 - val_accuracy: 0.0000e+00\n",
      "Epoch 6/10\n",
      "27/27 [==============================] - 0s 4ms/step - loss: -1149.4913 - accuracy: 0.0000e+00 - val_loss: -1173.1846 - val_accuracy: 0.0000e+00\n",
      "Epoch 7/10\n",
      "27/27 [==============================] - 0s 4ms/step - loss: -1149.4913 - accuracy: 0.0000e+00 - val_loss: -1173.1846 - val_accuracy: 0.0000e+00\n",
      "Epoch 8/10\n",
      "27/27 [==============================] - 0s 4ms/step - loss: -1149.4913 - accuracy: 0.0000e+00 - val_loss: -1173.1846 - val_accuracy: 0.0000e+00\n",
      "Epoch 9/10\n",
      "27/27 [==============================] - 0s 4ms/step - loss: -1149.4913 - accuracy: 0.0000e+00 - val_loss: -1173.1846 - val_accuracy: 0.0000e+00\n",
      "Epoch 10/10\n",
      "27/27 [==============================] - 0s 4ms/step - loss: -1149.4915 - accuracy: 0.0000e+00 - val_loss: -1173.1846 - val_accuracy: 0.0000e+00\n"
     ]
    }
   ],
   "source": [
    "\n",
    "history_seq_moded = sequential_moded.fit(X_train, y_train, \n",
    "                            validation_data=(X_val, y_val),  \n",
    "                            epochs=10,  \n",
    "                            batch_size=32,\n",
    "                            validation_split=0.2)  \n",
    "\n",
    "\n",
    "\n",
    "history_func_moded = functional_moded.fit(X_train, y_train, \n",
    "                              validation_data=(X_val, y_val),  \n",
    "                              epochs=10,  \n",
    "                              batch_size=32,\n",
    "                              validation_split=0.2)  "
   ]
  },
  {
   "cell_type": "markdown",
   "id": "6646dfff",
   "metadata": {},
   "source": [
    "### evaluasi model\n",
    "#### metrics:\n",
    "- MAE (Mean Absolute Error)\n",
    "- MSE (Mean Squared Error)\n",
    "- R² Score (Coefficient of Determination)\n"
   ]
  },
  {
   "cell_type": "code",
   "execution_count": 139,
   "id": "80dbaeb2",
   "metadata": {},
   "outputs": [
    {
     "name": "stdout",
     "output_type": "stream",
     "text": [
      "8/8 [==============================] - 0s 2ms/step\n",
      "8/8 [==============================] - 0s 2ms/step\n",
      "8/8 [==============================] - 0s 2ms/step\n",
      "8/8 [==============================] - 0s 2ms/step\n"
     ]
    },
    {
     "data": {
      "text/html": [
       "<div>\n",
       "<style scoped>\n",
       "    .dataframe tbody tr th:only-of-type {\n",
       "        vertical-align: middle;\n",
       "    }\n",
       "\n",
       "    .dataframe tbody tr th {\n",
       "        vertical-align: top;\n",
       "    }\n",
       "\n",
       "    .dataframe thead th {\n",
       "        text-align: right;\n",
       "    }\n",
       "</style>\n",
       "<table border=\"1\" class=\"dataframe\">\n",
       "  <thead>\n",
       "    <tr style=\"text-align: right;\">\n",
       "      <th></th>\n",
       "      <th>Model</th>\n",
       "      <th>MAE</th>\n",
       "      <th>MSE</th>\n",
       "      <th>R2 Score</th>\n",
       "    </tr>\n",
       "  </thead>\n",
       "  <tbody>\n",
       "    <tr>\n",
       "      <th>0</th>\n",
       "      <td>Sequential</td>\n",
       "      <td>73.881596</td>\n",
       "      <td>5536.912062</td>\n",
       "      <td>-67.417132</td>\n",
       "    </tr>\n",
       "    <tr>\n",
       "      <th>1</th>\n",
       "      <td>Functional</td>\n",
       "      <td>73.338385</td>\n",
       "      <td>5455.348768</td>\n",
       "      <td>-66.409291</td>\n",
       "    </tr>\n",
       "    <tr>\n",
       "      <th>2</th>\n",
       "      <td>Sequential Moded</td>\n",
       "      <td>77.670304</td>\n",
       "      <td>6113.901594</td>\n",
       "      <td>-74.546732</td>\n",
       "    </tr>\n",
       "    <tr>\n",
       "      <th>3</th>\n",
       "      <td>Functional Moded</td>\n",
       "      <td>74.857925</td>\n",
       "      <td>5684.179049</td>\n",
       "      <td>-69.236844</td>\n",
       "    </tr>\n",
       "  </tbody>\n",
       "</table>\n",
       "</div>"
      ],
      "text/plain": [
       "              Model        MAE          MSE   R2 Score\n",
       "0        Sequential  73.881596  5536.912062 -67.417132\n",
       "1        Functional  73.338385  5455.348768 -66.409291\n",
       "2  Sequential Moded  77.670304  6113.901594 -74.546732\n",
       "3  Functional Moded  74.857925  5684.179049 -69.236844"
      ]
     },
     "execution_count": 139,
     "metadata": {},
     "output_type": "execute_result"
    }
   ],
   "source": [
    "from sklearn.metrics import mean_absolute_error, mean_squared_error, r2_score\n",
    "\n",
    "# Fungsi evaluasi\n",
    "def evaluate_model(y_true, y_pred):\n",
    "    mae = mean_absolute_error(y_true, y_pred)\n",
    "    mse = mean_squared_error(y_true, y_pred)\n",
    "    r2 = r2_score(y_true, y_pred)\n",
    "    return mae, mse, r2\n",
    "\n",
    "# Prediksi dari keempat model\n",
    "y_pred_seq = sequential.predict(X_test)\n",
    "y_pred_func = functional.predict(X_test)\n",
    "y_pred_seq_mod = sequential_moded.predict(X_test)\n",
    "y_pred_func_mod = functional_moded.predict(X_test)\n",
    "\n",
    "# Evaluasi\n",
    "eval_seq = evaluate_model(y_test, y_pred_seq)\n",
    "eval_func = evaluate_model(y_test, y_pred_func)\n",
    "eval_seq_mod = evaluate_model(y_test, y_pred_seq_mod)\n",
    "eval_func_mod = evaluate_model(y_test, y_pred_func_mod)\n",
    "\n",
    "\n",
    "\n",
    "results = pd.DataFrame({\n",
    "    'Model': ['Sequential', 'Functional', 'Sequential Moded', 'Functional Moded'],\n",
    "    'MAE': [eval_seq[0], eval_func[0], eval_seq_mod[0], eval_func_mod[0]],\n",
    "    'MSE': [eval_seq[1], eval_func[1], eval_seq_mod[1], eval_func_mod[1]],\n",
    "    'R2 Score': [eval_seq[2], eval_func[2], eval_seq_mod[2], eval_func_mod[2]]\n",
    "})\n",
    "\n",
    "results.head()\n"
   ]
  },
  {
   "cell_type": "markdown",
   "id": "a03be772",
   "metadata": {},
   "source": [
    "#### 1. Model terbaik secara keseluruhan: Functional (original)\n",
    "\n",
    "- Memiliki nilai MAE dan MSE paling rendah di antara keempat model.\n",
    "\n",
    "- R² Score juga yang paling mendekati nol, meskipun masih negatif (menandakan model belum baik dalam menjelaskan variasi data).\n",
    "\n",
    "#### 2. Model Modifikasi (Moded):\n",
    "\n",
    "- Performa lebih buruk dibanding versi original-nya.\n",
    "\n",
    "- MAE dan MSE meningkat, dan R² Score menjadi lebih negatif.\n",
    "\n",
    "- Artinya, penambahan layer dan variasi aktivasi tidak meningkatkan akurasi atau generalisasi model, justru sebaliknya (mungkin karena overfitting atau arsitektur tidak cocok untuk dataset ini)."
   ]
  },
  {
   "cell_type": "code",
   "execution_count": null,
   "id": "923c0d5b",
   "metadata": {},
   "outputs": [],
   "source": []
  }
 ],
 "metadata": {
  "kernelspec": {
   "display_name": "tf_env",
   "language": "python",
   "name": "python3"
  },
  "language_info": {
   "codemirror_mode": {
    "name": "ipython",
    "version": 3
   },
   "file_extension": ".py",
   "mimetype": "text/x-python",
   "name": "python",
   "nbconvert_exporter": "python",
   "pygments_lexer": "ipython3",
   "version": "3.9.21"
  }
 },
 "nbformat": 4,
 "nbformat_minor": 5
}
